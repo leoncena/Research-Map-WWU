{
 "cells": [
  {
   "cell_type": "code",
   "execution_count": null,
   "metadata": {
    "collapsed": true,
    "pycharm": {
     "name": "#%%\n"
    }
   },
   "outputs": [],
   "source": []
  },
  {
   "cell_type": "code",
   "execution_count": null,
   "outputs": [],
   "source": [],
   "metadata": {
    "collapsed": false,
    "pycharm": {
     "name": "#%%\n"
    }
   }
  },
  {
   "cell_type": "code",
   "execution_count": null,
   "outputs": [],
   "source": [
    "#Import von Daten\n",
    "import pandas as pd\n",
    "\n",
    "publication = pd.read_csv('wi_df_final.csv',encoding='utf8')\n",
    "##Hier kann auch einfahc Mongo DB Tabelle hin und dann transfomieren in Pandas DB"
   ],
   "metadata": {
    "collapsed": false,
    "pycharm": {
     "name": "#%%\n"
    }
   }
  },
  {
   "cell_type": "code",
   "execution_count": null,
   "outputs": [],
   "source": [
    "publication.head()"
   ],
   "metadata": {
    "collapsed": false,
    "pycharm": {
     "name": "#%%\n"
    }
   }
  },
  {
   "cell_type": "markdown",
   "source": [
    "##### Funktionen um Keywords aufzubereiten"
   ],
   "metadata": {
    "collapsed": false,
    "pycharm": {
     "name": "#%% md\n"
    }
   }
  },
  {
   "cell_type": "code",
   "execution_count": null,
   "outputs": [],
   "source": [
    "def clean_keywords(dataframe,column):\n",
    "    \"\"\"\n",
    "    Bereinigen von Keyword sin dem DF, anschließendes Exportieren der Daten\n",
    "    :param dataframe:\n",
    "    :param column:\n",
    "    :return:\n",
    "    \"\"\"\n",
    "    clean_keywords = keyword_preparer(dataframe,column)\n",
    "    accumulated_datatable = add_to_table(dataframe,clean_keywords)\n",
    "    export_clean_table(accumulated_datatable)\n",
    "\n",
    "pass\n",
    "\n",
    "def keyword_preparer(dataframe,column):\n",
    "    df = dataframe\n",
    "    result = []\n",
    "    # Iteriere über die Zeilen des DataFrames\n",
    "    for index, row in df.iterrows():\n",
    "\n",
    "        data = row[column]\n",
    "\n",
    "        if(type(data) == str):\n",
    "\n",
    "            if((\"[\" or \"]\") in data):\n",
    "                string_as_list = build_list(data)\n",
    "                string_as_list = join_list(string_as_list)\n",
    "                #print(type([string_as_list]))\n",
    "                result.append([string_as_list])\n",
    "                ##df.loc[index,'keywords'] = string_as_list\n",
    "            if(\";\" in data):\n",
    "                string_with_comma = unify_separators(data)\n",
    "                string_as_list = seperated_list(string_with_comma)\n",
    "                #print(type(string_as_list))\n",
    "                #Daten müssen noch von [\"..,.,.\"] zu [\"\",\"\",\"\"]\n",
    "                result.append(string_as_list)\n",
    "        else:\n",
    "            result.append(float(\"nan\"))\n",
    "\n",
    "    my_series = pd.Series(result)\n",
    "    clean_column = pd.DataFrame(my_series, columns=['keyword_clean'])\n",
    "    return clean_column\n",
    "\n",
    "\n",
    "##### Methods to format String\n",
    "import ast\n",
    "#Wenn klammern vorhandne, dann zur Liste konvertieren\n",
    "def build_list(actual_str):\n",
    "    #Liste aus String erstellen die Liste enthält\n",
    "\n",
    "    computed_string = ast.literal_eval(actual_str)\n",
    "    return computed_string\n",
    "\n",
    "def join_list(actual_list):\n",
    "    #String wird zu einem gemeinsamen String fusioniert\n",
    "    computed_string =\", \".join(actual_list)\n",
    "    return computed_string\n",
    "\n",
    "def unify_separators(actual_str):\n",
    "    result = actual_str.replace(\";\", \",\")\n",
    "    return result\n",
    "\n",
    "\n",
    "def seperated_list (tst_data):\n",
    "\n",
    "    result = tst_data.split(\",\")\n",
    "    return result\n",
    "\n",
    "\n",
    "## Methods to export result\n",
    "def add_to_table(result_df,clean_column):\n",
    "    '''Zeile mit den bereinigten Keywords an ursprungs DF anhaengen'''\n",
    "\n",
    "    df_publication=result_df\n",
    "    df_publication[\"keyword_clean\"] = clean_column['keyword_clean']\n",
    "    return df_publication\n",
    "\n",
    "def export_clean_table(df):\n",
    "    '''Bereinigentn DF Exportieren'''\n",
    "    df.to_csv('.\\wi_df_final_clean_keyword.csv', index=False)\n",
    "pass"
   ],
   "metadata": {
    "collapsed": false,
    "pycharm": {
     "name": "#%%\n"
    }
   }
  },
  {
   "cell_type": "code",
   "execution_count": null,
   "outputs": [],
   "source": [
    "clean_keywords(publication,'keywords')"
   ],
   "metadata": {
    "collapsed": false,
    "pycharm": {
     "name": "#%%\n"
    }
   }
  }
 ],
 "metadata": {
  "kernelspec": {
   "display_name": "Python 3",
   "language": "python",
   "name": "python3"
  },
  "language_info": {
   "codemirror_mode": {
    "name": "ipython",
    "version": 2
   },
   "file_extension": ".py",
   "mimetype": "text/x-python",
   "name": "python",
   "nbconvert_exporter": "python",
   "pygments_lexer": "ipython2",
   "version": "2.7.6"
  }
 },
 "nbformat": 4,
 "nbformat_minor": 0
}