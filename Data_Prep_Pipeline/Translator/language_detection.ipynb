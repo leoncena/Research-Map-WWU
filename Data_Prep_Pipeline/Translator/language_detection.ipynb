{
 "cells": [
  {
   "cell_type": "markdown",
   "source": [
    "# Language detection of text\n",
    "- Detect the language of a text with the help of the langdetect library\n",
    "- Our aim is to distinguish between English and German texts\n",
    "- Test the methods in that notebook before integrating them into the main code\n",
    "- URL of Package: [https://pypi.org/project/langdetect/]"
   ],
   "metadata": {
    "collapsed": false,
    "pycharm": {
     "name": "#%% md\n"
    }
   }
  },
  {
   "cell_type": "markdown",
   "source": [
    "## Install and import the necessary packages"
   ],
   "metadata": {
    "collapsed": false,
    "pycharm": {
     "name": "#%% md\n"
    }
   }
  },
  {
   "cell_type": "code",
   "execution_count": 1,
   "outputs": [
    {
     "name": "stdout",
     "output_type": "stream",
     "text": [
      "Requirement already satisfied: langdetect in /Users/leoncena/Python/venvs/ps-research-map-venv-new/lib/python3.10/site-packages (1.0.9)\r\n",
      "Requirement already satisfied: six in /Users/leoncena/Python/venvs/ps-research-map-venv-new/lib/python3.10/site-packages (from langdetect) (1.16.0)\r\n",
      "\u001B[33mWARNING: You are using pip version 21.3.1; however, version 22.3.1 is available.\r\n",
      "You should consider upgrading via the '/Users/leoncena/Python/venvs/ps-research-map-venv-new/bin/python -m pip install --upgrade pip' command.\u001B[0m\r\n"
     ]
    }
   ],
   "source": [
    "!pip install langdetect"
   ],
   "metadata": {
    "collapsed": false,
    "pycharm": {
     "name": "#%%\n"
    }
   }
  },
  {
   "cell_type": "code",
   "execution_count": 2,
   "outputs": [],
   "source": [
    "# new package\n",
    "import langdetect\n",
    "# usual packages\n",
    "import os\n",
    "import json\n",
    "import pandas as pd\n",
    "import deepl\n",
    "\n"
   ],
   "metadata": {
    "collapsed": false,
    "pycharm": {
     "name": "#%%\n"
    }
   }
  },
  {
   "cell_type": "markdown",
   "source": [
    "## Load data for testing"
   ],
   "metadata": {
    "collapsed": false,
    "pycharm": {
     "name": "#%% md\n"
    }
   }
  },
  {
   "cell_type": "code",
   "execution_count": 33,
   "outputs": [
    {
     "name": "stdout",
     "output_type": "stream",
     "text": [
      "Number of publications: 1578\n",
      "Number of features in df: 16\n"
     ]
    },
    {
     "name": "stderr",
     "output_type": "stream",
     "text": [
      "/var/folders/4h/85bfh88x7tl03kbbf_kjd4hc0000gp/T/ipykernel_38556/3823020684.py:6: SettingWithCopyWarning: \n",
      "A value is trying to be set on a copy of a slice from a DataFrame.\n",
      "Try using .loc[row_indexer,col_indexer] = value instead\n",
      "\n",
      "See the caveats in the documentation: https://pandas.pydata.org/pandas-docs/stable/user_guide/indexing.html#returning-a-view-versus-a-copy\n",
      "  publication_filtered['id'] = publication_filtered['id'].astype(str)\n"
     ]
    }
   ],
   "source": [
    "publication = pd.read_csv('wi_df_final_clean_keyword.csv',encoding='utf8')\n",
    "\n",
    "# filter rows with abstracts and keywords\n",
    "publication_filtered  = publication[publication['cfAbstr'].notna() & publication['keywords'].notna()]\n",
    "# id column should be string\n",
    "publication_filtered['id'] = publication_filtered['id'].astype(str)\n",
    "\n",
    "# quick eda\n",
    "print(f'Number of publications: {publication_filtered.shape[0]}')\n",
    "print(f'Number of features in df: {publication_filtered.shape[1]}')\n"
   ],
   "metadata": {
    "collapsed": false,
    "pycharm": {
     "name": "#%%\n"
    }
   }
  },
  {
   "cell_type": "code",
   "execution_count": 36,
   "outputs": [],
   "source": [
    "publication_filtered.head(30)\n",
    "# german publication IDs\n",
    "german_ids =['12238508',\n",
    "             '12238593',\n",
    "             '12238675',\n",
    "             '12240680'] # here keywords englisch but abstract german\n",
    "\n",
    "english_ids = ['10101316',\n",
    "               '12237848']\n",
    "\n",
    "# sample ids\n",
    "sample_ids = german_ids + english_ids\n",
    "sample_ids\n",
    "\n",
    "\n",
    "# query sample_ids for column 'id'\n",
    "sample_df = publication_filtered[publication_filtered['id'].isin(sample_ids)]"
   ],
   "metadata": {
    "collapsed": false,
    "pycharm": {
     "name": "#%%\n"
    }
   }
  },
  {
   "cell_type": "code",
   "execution_count": 32,
   "outputs": [
    {
     "data": {
      "text/plain": "id                int64\ncfTitle          object\ncfUri            object\nkeywords         object\ndoi              object\nsrcAuthors       object\nauthors          object\ncfAbstr          object\npublYear          int64\neid              object\ndata_source      object\nlog              object\nresult_flag      object\nerror            object\nerror_doi        object\nkeyword_clean    object\ndtype: object"
     },
     "execution_count": 32,
     "metadata": {},
     "output_type": "execute_result"
    }
   ],
   "source": [
    "\n"
   ],
   "metadata": {
    "collapsed": false,
    "pycharm": {
     "name": "#%%\n"
    }
   }
  },
  {
   "cell_type": "markdown",
   "source": [
    "## Detection\n",
    "### Setup"
   ],
   "metadata": {
    "collapsed": false,
    "pycharm": {
     "name": "#%% md\n"
    }
   }
  },
  {
   "cell_type": "code",
   "execution_count": 89,
   "outputs": [
    {
     "name": "stdout",
     "output_type": "stream",
     "text": [
      "ID + lang\t\tLang Abstract\tLand kws\n",
      "10101316 (en) \tAbstract: en\t(0.999996)\tKeywords: en (0.999997)\t\n",
      "12237848 (en) \tAbstract: en\t(0.999997)\tKeywords: en (0.857139)\t\n",
      "\u001B[1;33m12238508 (de) \u001B[0m \t\u001B[91mAbstract: de\t(0.999997)\t\u001B[91mKeywords: de\u001B[0m (0.85714)\t\n",
      "\u001B[1;33m12238593 (de) \u001B[0m \t\u001B[91mAbstract: de\t(0.999996)\t\u001B[91mKeywords: de\u001B[0m (0.999997)\t\n",
      "\u001B[1;33m12238675 (de) \u001B[0m \t\u001B[91mAbstract: de\t(0.999996)\t\u001B[91mKeywords: it\u001B[0m (0.562428)\t\n",
      "\u001B[1;33m12240680 (de) \u001B[0m \tAbstract: en\t(0.999997)\tKeywords: en (0.999994)\t\n"
     ]
    }
   ],
   "source": [
    "# set seed to get reproducible results\n",
    "langdetect.DetectorFactory.seed = 3141\n",
    "\n",
    "# detect language of first item in sample_df\n",
    "# print col names of debug msg\n",
    "msg = f'ID + lang\\t\\tLang Abstract\\tLand kws'\n",
    "print(msg)\n",
    "for index,row in sample_df.iterrows():\n",
    "    # id of row\n",
    "    id = row['id']\n",
    "    # if id is in german_ids orange font in msg\n",
    "    if id in german_ids:\n",
    "        msg = f'\\033[1;33m{id} (de) \\033[0m \\t'\n",
    "    else:\n",
    "        msg = f'{id} (en) \\t'\n",
    "\n",
    "    # detect lang of abstract and print probability at the end in brackets\n",
    "    lang_abstract = langdetect.detect(row['cfAbstr'])\n",
    "    prob_abstract = langdetect.detect_langs(row['cfAbstr'])[0].prob\n",
    "    # round 4 digits after comma\n",
    "    prob_abstract = round(prob_abstract,6)\n",
    "\n",
    "\n",
    "\n",
    "    # if lang of abstract is not english print red\n",
    "    if lang_abstract != 'en':\n",
    "        msg += f'\\033[91mAbstract: {lang_abstract}\\t'\n",
    "    else:\n",
    "        msg += f'Abstract: {lang_abstract}\\t'\n",
    "    msg += f'({prob_abstract})\\t'\n",
    "    lang_keywords = langdetect.detect(row['keywords'])\n",
    "    prob_keywords = langdetect.detect_langs(row['keywords'])[0].prob\n",
    "    prob_keywords = round(prob_keywords,6)\n",
    "\n",
    "    if lang_keywords != 'en':\n",
    "        msg += f'\\033[91mKeywords: {lang_keywords}\\033[0m'\n",
    "    else:\n",
    "        msg += f'Keywords: {lang_keywords}'\n",
    "    msg += f' ({prob_keywords})\\t'\n",
    "    print(msg)"
   ],
   "metadata": {
    "collapsed": false,
    "pycharm": {
     "name": "#%%\n"
    }
   }
  },
  {
   "cell_type": "code",
   "execution_count": null,
   "outputs": [],
   "source": [
    "# get row  with 12240680\n",
    "row = sample_df[sample_df['id'] == '12240680']\n",
    "# detect langs of title\n",
    "from langdetect import detect_langs\n",
    "# detect langs from title\n",
    "title_text = row['cfAbstr'].values[0]\n",
    "detect_langs(title_text)\n",
    "detect_langs('')\n"
   ],
   "metadata": {
    "collapsed": false,
    "pycharm": {
     "name": "#%%\n",
     "is_executing": true
    }
   }
  }
 ],
 "metadata": {
  "kernelspec": {
   "display_name": "Python 3",
   "language": "python",
   "name": "python3"
  },
  "language_info": {
   "codemirror_mode": {
    "name": "ipython",
    "version": 2
   },
   "file_extension": ".py",
   "mimetype": "text/x-python",
   "name": "python",
   "nbconvert_exporter": "python",
   "pygments_lexer": "ipython2",
   "version": "2.7.6"
  }
 },
 "nbformat": 4,
 "nbformat_minor": 0
}