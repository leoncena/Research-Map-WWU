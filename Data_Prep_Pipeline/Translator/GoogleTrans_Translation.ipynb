{
 "cells": [
  {
   "cell_type": "markdown",
   "metadata": {
    "collapsed": true,
    "pycharm": {
     "name": "#%% md\n"
    }
   },
   "source": [
    "#### Translation von WI Data in EN\n",
    "\n",
    "Nutzung von GoogleTrans Sprachmodell\n",
    "\n",
    "Hinweis:\n",
    "Wurde ausprobiert, um Nutzung von kostenloser Google API zu machen\n",
    "\n",
    "Problem:\n",
    "-->Nur begrenzte Zeichenanzahl\n",
    "-->Nur begrenzte Methoden (Check der Sprache ist nicht frei)\n",
    "\n",
    "    Daher mit nltk Abstracts gesplittet, um die Sätze einzeln übersetztn zu können --> Tests waren erfolgreich, es funktioniert aber nur bis ca 100 Artikel\n",
    "\n",
    "TODO hier (Wenn weiter verfolgt werden soll):\n",
    "-->ändern der Bibliothek zu google Translate/ das macht aber Probleme beim Laden, löst sich vermutlich wenn man bezahlt\n",
    "-->Struktur ordentlicher, Übersetzung von Titeln und Abstracts trennen\n",
    "--> Ergänzen von try/except\n"
   ]
  },
  {
   "cell_type": "code",
   "execution_count": 346,
   "outputs": [
    {
     "name": "stdout",
     "output_type": "stream",
     "text": [
      "Error creating translate client\n"
     ]
    }
   ],
   "source": [
    "#https://cloud.google.com/translate/docs/\n",
    "import os\n",
    "#from google.cloud import translate\n",
    "\n",
    "try:\n",
    "    # Setze den API-Schlüssel als Umgebungsvariable\n",
    "    os.environ['GOOGLE_APPLICATION_CREDENTIALS'] = '/path/to/api-key.json'\n",
    "\n",
    "    # Erstelle ein Translate-Client-Objekt\n",
    "    translate_client = translate.Client()\n",
    "\n",
    "except:\n",
    "    print(\"Error: creating translate client\")"
   ],
   "metadata": {
    "collapsed": false,
    "pycharm": {
     "name": "#%%\n"
    }
   }
  },
  {
   "cell_type": "code",
   "execution_count": 326,
   "outputs": [],
   "source": [
    "#Import von Daten\n",
    "import pandas as pd\n",
    "\n",
    "publication = pd.read_csv('wi_df_final_clean_keyword.csv',encoding='utf8')\n"
   ],
   "metadata": {
    "collapsed": false,
    "pycharm": {
     "name": "#%%\n"
    }
   }
  },
  {
   "cell_type": "code",
   "execution_count": 327,
   "outputs": [
    {
     "data": {
      "text/plain": "         id                                            cfTitle cfUri  \\\n0  10101316  Configuring Reference Models - An Integrated A...   NaN   \n1  10105507  Konnektionistische Tourenplanung für die dezen...   NaN   \n2  10971967  Cryptocoin-Schulden – Haftung und Risikovertei...   NaN   \n3  10976734  Benefits and Perils of Virtual Modes of Organi...   NaN   \n4  10982470  Dynamic Decision Making in Energy Systems with...   NaN   \n\n                                            keywords  \\\n0  ['Configuration', 'Decision support', 'Integra...   \n1                                                NaN   \n2                                                NaN   \n3                                                NaN   \n4  ['Energy storage', 'Sequential decision making...   \n\n                           doi                         srcAuthors  \\\n0                          NaN  Knackstedt R, Janiesch C, Rieke T   \n1                          NaN              Pietsch W, Teubner RA   \n2                          NaN                              Pesch   \n3        10.4324/9781315601915  Schellhammer Stefan, Klein Stefan   \n4  10.1007/978-3-319-51795-7_6                 Meisel S, Powell W   \n\n                                             authors  \\\n0  Knackstedt, Ralf;Janiesch, Christian;Rieke, To...   \n1                                                NaN   \n2                                                NaN   \n3                 Schellhammer, Stefan;Klein, Stefan   \n4                  Meisel, Stephan;Powell, Warren B.   \n\n                                             cfAbstr  publYear  \\\n0  Reference models are of normative, universal n...      2006   \n1  Die Aufstellung effizienter Tourenpl&auml;ne s...      1992   \n2                                                NaN      2017   \n3                                                NaN      2016   \n4                                           <html />      2017   \n\n                  eid data_source  \\\n0  2-s2.0-67649915340  scopus-api   \n1                 NaN         NaN   \n2                 NaN         NaN   \n3  2-s2.0-85062635276  scopus-api   \n4  2-s2.0-85048159112  scopus-api   \n\n                                                 log result_flag error  \\\n0  {'log_title': 'configuring reference models - ...        True   NaN   \n1                                                NaN       False   NaN   \n2                                                NaN       False   NaN   \n3  {'log_title': 'benefits and perils of virtual ...        True   NaN   \n4  {'log_title': 'dynamic decision making in ener...        True   NaN   \n\n  error_doi                                      keyword_clean  \n0       NaN  ['Configuration, Decision support, Integration...  \n1       NaN                                                NaN  \n2       NaN                                                NaN  \n3       NaN                                                NaN  \n4       NaN  ['Energy storage, Sequential decision making, ...  ",
      "text/html": "<div>\n<style scoped>\n    .dataframe tbody tr th:only-of-type {\n        vertical-align: middle;\n    }\n\n    .dataframe tbody tr th {\n        vertical-align: top;\n    }\n\n    .dataframe thead th {\n        text-align: right;\n    }\n</style>\n<table border=\"1\" class=\"dataframe\">\n  <thead>\n    <tr style=\"text-align: right;\">\n      <th></th>\n      <th>id</th>\n      <th>cfTitle</th>\n      <th>cfUri</th>\n      <th>keywords</th>\n      <th>doi</th>\n      <th>srcAuthors</th>\n      <th>authors</th>\n      <th>cfAbstr</th>\n      <th>publYear</th>\n      <th>eid</th>\n      <th>data_source</th>\n      <th>log</th>\n      <th>result_flag</th>\n      <th>error</th>\n      <th>error_doi</th>\n      <th>keyword_clean</th>\n    </tr>\n  </thead>\n  <tbody>\n    <tr>\n      <th>0</th>\n      <td>10101316</td>\n      <td>Configuring Reference Models - An Integrated A...</td>\n      <td>NaN</td>\n      <td>['Configuration', 'Decision support', 'Integra...</td>\n      <td>NaN</td>\n      <td>Knackstedt R, Janiesch C, Rieke T</td>\n      <td>Knackstedt, Ralf;Janiesch, Christian;Rieke, To...</td>\n      <td>Reference models are of normative, universal n...</td>\n      <td>2006</td>\n      <td>2-s2.0-67649915340</td>\n      <td>scopus-api</td>\n      <td>{'log_title': 'configuring reference models - ...</td>\n      <td>True</td>\n      <td>NaN</td>\n      <td>NaN</td>\n      <td>['Configuration, Decision support, Integration...</td>\n    </tr>\n    <tr>\n      <th>1</th>\n      <td>10105507</td>\n      <td>Konnektionistische Tourenplanung für die dezen...</td>\n      <td>NaN</td>\n      <td>NaN</td>\n      <td>NaN</td>\n      <td>Pietsch W, Teubner RA</td>\n      <td>NaN</td>\n      <td>Die Aufstellung effizienter Tourenpl&amp;auml;ne s...</td>\n      <td>1992</td>\n      <td>NaN</td>\n      <td>NaN</td>\n      <td>NaN</td>\n      <td>False</td>\n      <td>NaN</td>\n      <td>NaN</td>\n      <td>NaN</td>\n    </tr>\n    <tr>\n      <th>2</th>\n      <td>10971967</td>\n      <td>Cryptocoin-Schulden – Haftung und Risikovertei...</td>\n      <td>NaN</td>\n      <td>NaN</td>\n      <td>NaN</td>\n      <td>Pesch</td>\n      <td>NaN</td>\n      <td>NaN</td>\n      <td>2017</td>\n      <td>NaN</td>\n      <td>NaN</td>\n      <td>NaN</td>\n      <td>False</td>\n      <td>NaN</td>\n      <td>NaN</td>\n      <td>NaN</td>\n    </tr>\n    <tr>\n      <th>3</th>\n      <td>10976734</td>\n      <td>Benefits and Perils of Virtual Modes of Organi...</td>\n      <td>NaN</td>\n      <td>NaN</td>\n      <td>10.4324/9781315601915</td>\n      <td>Schellhammer Stefan, Klein Stefan</td>\n      <td>Schellhammer, Stefan;Klein, Stefan</td>\n      <td>NaN</td>\n      <td>2016</td>\n      <td>2-s2.0-85062635276</td>\n      <td>scopus-api</td>\n      <td>{'log_title': 'benefits and perils of virtual ...</td>\n      <td>True</td>\n      <td>NaN</td>\n      <td>NaN</td>\n      <td>NaN</td>\n    </tr>\n    <tr>\n      <th>4</th>\n      <td>10982470</td>\n      <td>Dynamic Decision Making in Energy Systems with...</td>\n      <td>NaN</td>\n      <td>['Energy storage', 'Sequential decision making...</td>\n      <td>10.1007/978-3-319-51795-7_6</td>\n      <td>Meisel S, Powell W</td>\n      <td>Meisel, Stephan;Powell, Warren B.</td>\n      <td>&lt;html /&gt;</td>\n      <td>2017</td>\n      <td>2-s2.0-85048159112</td>\n      <td>scopus-api</td>\n      <td>{'log_title': 'dynamic decision making in ener...</td>\n      <td>True</td>\n      <td>NaN</td>\n      <td>NaN</td>\n      <td>['Energy storage, Sequential decision making, ...</td>\n    </tr>\n  </tbody>\n</table>\n</div>"
     },
     "execution_count": 327,
     "metadata": {},
     "output_type": "execute_result"
    }
   ],
   "source": [
    "publication.head()"
   ],
   "metadata": {
    "collapsed": false,
    "pycharm": {
     "name": "#%%\n"
    }
   }
  },
  {
   "cell_type": "code",
   "execution_count": 255,
   "outputs": [],
   "source": [
    "#Parameter von DeepL\n",
    "from deep_translator import GoogleTranslator\n",
    "import nltk\n",
    "\n",
    "def translate_publication_wi(publication):\n",
    "    \"\"\"\n",
    "    Funktion durchläuft alle Zeile des Pandas DF und schaut für die jeweiligen Einträge ob sie auf englisch vorleigen. Wenn dies nicht der Fall ist, werden die auf englisch übersetzt\n",
    "    --> Datei wird nach jedem Übersetzungsvorgang exportiert, das hat den Grund das nicht ein Fehler auftritt und damit der Fortschritt umsost ist\n",
    "    :param publication:\n",
    "    :return:\n",
    "    \"\"\"\n",
    "    #print(type(publication))\n",
    "    publication_en = publication\n",
    "\n",
    "\n",
    "    # Iterate over the rows of the DataFrame\n",
    "    for index, row in publication_en.iterrows():\n",
    "\n",
    "        actual_title = str(row['cfTitle'])\n",
    "        actual_abstr = str(row['cfAbstr'])\n",
    "\n",
    "        if(actual_title != (\"\" or 'nan')):\n",
    "            result = translator(actual_title)\n",
    "            translated_titel = result\n",
    "            #Insert translated value\n",
    "            publication_en.loc[index, 'cfTitle'] = str(translated_titel)\n",
    "\n",
    "        if(str(actual_abstr) != (\"\" or 'nan')):\n",
    "            #More than 5000 Words, split and translate seperate\n",
    "            translated_abstr_split = splitText(str(actual_abstr))\n",
    "            translated_abstr = join_text(translated_abstr_split)\n",
    "            #Insert translated value\n",
    "            publication_en.loc[index, 'cfAbstr'] = str(translated_abstr)\n",
    "            #print(translated_abstr)\n",
    "\n",
    "\n",
    "    #Save translation\n",
    "    #csv_exporter(publication_en)\n",
    "    return publication_en\n",
    "\n",
    "\n",
    "def translator(input):\n",
    "    result = GoogleTranslator(source='auto', target='en').translate(input)\n",
    "    return result\n",
    "\n",
    "def csv_exporter(dataframe):\n",
    "    dataframe.to_csv(r'.\\wi_df_translated\\wi_df_translated_googleTrans.csv', index=False)\n",
    "    pass\n",
    "\n",
    "\n",
    "#Methods to bypass maximum string length\n",
    "def splitText(actual_str):\n",
    "\n",
    "    actual_str = nltk.tokenize.sent_tokenize(actual_str)\n",
    "    translated = []\n",
    "    for sentence in actual_str:\n",
    "        result = translator(sentence) #send each sentence to translator\n",
    "        translated.append(result)\n",
    "    return translated\n",
    "\n",
    "def join_text(input):\n",
    "    trennzeichen = ' '\n",
    "    ergebnis = trennzeichen.join(input)\n",
    "    return ergebnis"
   ],
   "metadata": {
    "collapsed": false,
    "pycharm": {
     "name": "#%%\n"
    }
   }
  },
  {
   "cell_type": "markdown",
   "source": [
    "#### Google Translate Keywords"
   ],
   "metadata": {
    "collapsed": false,
    "pycharm": {
     "name": "#%% md\n"
    }
   }
  },
  {
   "cell_type": "code",
   "execution_count": 203,
   "outputs": [],
   "source": [
    "#### Function to translate Keywords\n",
    "def translate_publication_keywords_wi(publication):\n",
    "    \"\"\"\n",
    "    The function runs through all lines of the panda DF and looks for the respective entries to see whether they are in English. If this is not the case, they will be translated into English\n",
    "    :param publication:\n",
    "    :return:\n",
    "    \"\"\"\n",
    "    publication_keywords = publication\n",
    "\n",
    "    target = 'en'\n",
    "\n",
    "    for index, row in publication_keywords.iterrows():\n",
    "        data = row['keyword_clean']\n",
    "        if(type(data) == str):\n",
    "            actual_Data = eval(data)\n",
    "            #for actual_str in actual_Data:  (If each element is to be translated individually)\n",
    "            actual_language = check_language(actual_Data)\n",
    "\n",
    "            if(actual_language != 'en'):\n",
    "                translation = translate_client.translate(actual_Data, target_language=target)\n",
    "                translated_text = translation['translatedText']\n",
    "                publication_keywords.loc[index, 'keywords'] = str(translated_text)\n",
    "\n",
    "    return publication_keywords\n",
    "\n",
    "\n",
    "def csv_exporter(dataframe):\n",
    "    dataframe.to_csv(r'.\\wi_df_translated\\wi_df_translated_final.csv', index=False)\n",
    "    pass"
   ],
   "metadata": {
    "collapsed": false,
    "pycharm": {
     "name": "#%%\n"
    }
   }
  },
  {
   "cell_type": "code",
   "execution_count": 203,
   "outputs": [],
   "source": [
    "def check_language(text):\n",
    "    result = translate_client.detect_language(text)\n",
    "    return result['language']\n",
    "    pass\n"
   ],
   "metadata": {
    "collapsed": false,
    "pycharm": {
     "name": "#%%\n"
    }
   }
  },
  {
   "cell_type": "code",
   "execution_count": 338,
   "outputs": [],
   "source": [
    "#First, titles and abstracts are translated\n",
    "translated_title_abstr = translate_publication_wi(publication)\n",
    "#Translate keywords\n",
    "all_translated =translate_publication_keywords_wi(translated_title_abstr)\n",
    "#Export a dataset with all entries translated to English\n",
    "csv_exporter(all_translated)"
   ],
   "metadata": {
    "collapsed": false,
    "pycharm": {
     "name": "#%%\n"
    }
   }
  },
  {
   "cell_type": "code",
   "execution_count": null,
   "outputs": [],
   "source": [],
   "metadata": {
    "collapsed": false,
    "pycharm": {
     "name": "#%%\n"
    }
   }
  }
 ],
 "metadata": {
  "kernelspec": {
   "display_name": "Python 3",
   "language": "python",
   "name": "python3"
  },
  "language_info": {
   "codemirror_mode": {
    "name": "ipython",
    "version": 2
   },
   "file_extension": ".py",
   "mimetype": "text/x-python",
   "name": "python",
   "nbconvert_exporter": "python",
   "pygments_lexer": "ipython2",
   "version": "2.7.6"
  }
 },
 "nbformat": 4,
 "nbformat_minor": 0
}